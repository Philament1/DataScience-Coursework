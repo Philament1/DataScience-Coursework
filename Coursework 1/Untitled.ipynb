{
 "cells": [
  {
   "cell_type": "code",
   "execution_count": 1,
   "id": "c1f4919a",
   "metadata": {},
   "outputs": [],
   "source": [
    "import numpy as np\n",
    "import pandas as pd\n",
    "import matplotlib.pyplot as plt\n",
    "\n",
    "import scipy\n",
    "import matplotlib"
   ]
  },
  {
   "cell_type": "code",
   "execution_count": 2,
   "id": "06cc9db6",
   "metadata": {},
   "outputs": [],
   "source": [
    "import torch"
   ]
  },
  {
   "cell_type": "code",
   "execution_count": 3,
   "id": "704a4b62",
   "metadata": {},
   "outputs": [],
   "source": [
    "ppp = np.random.normal(size=(10,5))"
   ]
  },
  {
   "cell_type": "code",
   "execution_count": null,
   "id": "a09e05b8",
   "metadata": {},
   "outputs": [],
   "source": [
    "np.cov(ppp)"
   ]
  },
  {
   "cell_type": "code",
   "execution_count": null,
   "id": "c3c67244",
   "metadata": {},
   "outputs": [],
   "source": [
    "np.matmul(np.transpose(ppp),ppp)"
   ]
  },
  {
   "cell_type": "code",
   "execution_count": null,
   "id": "8570ef27",
   "metadata": {},
   "outputs": [],
   "source": [
    "ppp = np.random.normal(size=(10,5))"
   ]
  },
  {
   "cell_type": "code",
   "execution_count": null,
   "id": "201ffc09",
   "metadata": {},
   "outputs": [],
   "source": [
    "np.matmul(ppp.T,ppp)"
   ]
  },
  {
   "cell_type": "code",
   "execution_count": null,
   "id": "2fccf665",
   "metadata": {},
   "outputs": [],
   "source": []
  }
 ],
 "metadata": {
  "kernelspec": {
   "display_name": "Python 3",
   "language": "python",
   "name": "python3"
  },
  "language_info": {
   "codemirror_mode": {
    "name": "ipython",
    "version": 3
   },
   "file_extension": ".py",
   "mimetype": "text/x-python",
   "name": "python",
   "nbconvert_exporter": "python",
   "pygments_lexer": "ipython3",
   "version": "3.8.8"
  }
 },
 "nbformat": 4,
 "nbformat_minor": 5
}
