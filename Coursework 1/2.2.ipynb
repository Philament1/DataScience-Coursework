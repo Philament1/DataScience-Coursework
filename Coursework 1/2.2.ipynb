{
 "cells": [
  {
   "cell_type": "code",
   "execution_count": 1,
   "id": "ec453f4a",
   "metadata": {},
   "outputs": [],
   "source": [
    "import numpy as np\n",
    "import pandas as pd"
   ]
  },
  {
   "cell_type": "code",
   "execution_count": 2,
   "id": "acabf074",
   "metadata": {},
   "outputs": [],
   "source": [
    "medical_train = pd.read_csv('brain_cancer_samples.csv')\n",
    "medical_test = pd.read_csv('brain_cancer_test.csv')"
   ]
  },
  {
   "cell_type": "code",
   "execution_count": 3,
   "id": "479413ec",
   "metadata": {
    "scrolled": false
   },
   "outputs": [
    {
     "data": {
      "text/html": [
       "<div>\n",
       "<style scoped>\n",
       "    .dataframe tbody tr th:only-of-type {\n",
       "        vertical-align: middle;\n",
       "    }\n",
       "\n",
       "    .dataframe tbody tr th {\n",
       "        vertical-align: top;\n",
       "    }\n",
       "\n",
       "    .dataframe thead th {\n",
       "        text-align: right;\n",
       "    }\n",
       "</style>\n",
       "<table border=\"1\" class=\"dataframe\">\n",
       "  <thead>\n",
       "    <tr style=\"text-align: right;\">\n",
       "      <th></th>\n",
       "      <th>Patient ID</th>\n",
       "      <th>2D Surface</th>\n",
       "      <th>Contour Size</th>\n",
       "      <th>Total Surface</th>\n",
       "      <th>Density</th>\n",
       "      <th>Diameter</th>\n",
       "      <th>Primary Axis</th>\n",
       "      <th>Shape Variation</th>\n",
       "      <th>Location</th>\n",
       "      <th>Eccentricity_Real</th>\n",
       "      <th>Eccentricity_Imag</th>\n",
       "      <th>Class</th>\n",
       "    </tr>\n",
       "  </thead>\n",
       "  <tbody>\n",
       "    <tr>\n",
       "      <th>count</th>\n",
       "      <td>145.000000</td>\n",
       "      <td>145.000000</td>\n",
       "      <td>145.000000</td>\n",
       "      <td>145.000000</td>\n",
       "      <td>145.000000</td>\n",
       "      <td>145.000000</td>\n",
       "      <td>145.000000</td>\n",
       "      <td>145.000000</td>\n",
       "      <td>145.000000</td>\n",
       "      <td>1.450000e+02</td>\n",
       "      <td>145.000000</td>\n",
       "      <td>145.000000</td>\n",
       "    </tr>\n",
       "    <tr>\n",
       "      <th>mean</th>\n",
       "      <td>73.000000</td>\n",
       "      <td>11197.331034</td>\n",
       "      <td>561.902852</td>\n",
       "      <td>24948.872414</td>\n",
       "      <td>0.616912</td>\n",
       "      <td>74.180916</td>\n",
       "      <td>130.089811</td>\n",
       "      <td>203.119272</td>\n",
       "      <td>1.524138</td>\n",
       "      <td>1.112586e-16</td>\n",
       "      <td>1.817069</td>\n",
       "      <td>0.800000</td>\n",
       "    </tr>\n",
       "    <tr>\n",
       "      <th>std</th>\n",
       "      <td>42.001984</td>\n",
       "      <td>37505.105580</td>\n",
       "      <td>700.870894</td>\n",
       "      <td>61834.821186</td>\n",
       "      <td>0.306082</td>\n",
       "      <td>93.887532</td>\n",
       "      <td>181.937427</td>\n",
       "      <td>395.821280</td>\n",
       "      <td>1.333764</td>\n",
       "      <td>1.671465e-16</td>\n",
       "      <td>2.733265</td>\n",
       "      <td>0.641179</td>\n",
       "    </tr>\n",
       "    <tr>\n",
       "      <th>min</th>\n",
       "      <td>1.000000</td>\n",
       "      <td>10.000000</td>\n",
       "      <td>13.071068</td>\n",
       "      <td>12.000000</td>\n",
       "      <td>0.055568</td>\n",
       "      <td>3.568248</td>\n",
       "      <td>2.107625</td>\n",
       "      <td>4.760943</td>\n",
       "      <td>0.000000</td>\n",
       "      <td>1.270000e-17</td>\n",
       "      <td>0.206967</td>\n",
       "      <td>0.000000</td>\n",
       "    </tr>\n",
       "    <tr>\n",
       "      <th>25%</th>\n",
       "      <td>37.000000</td>\n",
       "      <td>395.000000</td>\n",
       "      <td>120.124890</td>\n",
       "      <td>693.000000</td>\n",
       "      <td>0.414042</td>\n",
       "      <td>22.426092</td>\n",
       "      <td>20.596636</td>\n",
       "      <td>45.993591</td>\n",
       "      <td>0.000000</td>\n",
       "      <td>4.980000e-17</td>\n",
       "      <td>0.812745</td>\n",
       "      <td>0.000000</td>\n",
       "    </tr>\n",
       "    <tr>\n",
       "      <th>50%</th>\n",
       "      <td>73.000000</td>\n",
       "      <td>1437.500000</td>\n",
       "      <td>275.622365</td>\n",
       "      <td>2979.500000</td>\n",
       "      <td>0.674065</td>\n",
       "      <td>42.781793</td>\n",
       "      <td>56.513119</td>\n",
       "      <td>91.704414</td>\n",
       "      <td>1.000000</td>\n",
       "      <td>6.940000e-17</td>\n",
       "      <td>1.133157</td>\n",
       "      <td>1.000000</td>\n",
       "    </tr>\n",
       "    <tr>\n",
       "      <th>75%</th>\n",
       "      <td>109.000000</td>\n",
       "      <td>5446.500000</td>\n",
       "      <td>743.737149</td>\n",
       "      <td>13503.500000</td>\n",
       "      <td>0.888472</td>\n",
       "      <td>83.274841</td>\n",
       "      <td>209.590240</td>\n",
       "      <td>283.598083</td>\n",
       "      <td>3.000000</td>\n",
       "      <td>1.090000e-16</td>\n",
       "      <td>1.772417</td>\n",
       "      <td>1.000000</td>\n",
       "    </tr>\n",
       "    <tr>\n",
       "      <th>max</th>\n",
       "      <td>145.000000</td>\n",
       "      <td>386972.500000</td>\n",
       "      <td>3924.688712</td>\n",
       "      <td>491608.500000</td>\n",
       "      <td>0.997361</td>\n",
       "      <td>701.932112</td>\n",
       "      <td>1388.291992</td>\n",
       "      <td>4315.014648</td>\n",
       "      <td>4.000000</td>\n",
       "      <td>1.720000e-15</td>\n",
       "      <td>28.144217</td>\n",
       "      <td>2.000000</td>\n",
       "    </tr>\n",
       "  </tbody>\n",
       "</table>\n",
       "</div>"
      ],
      "text/plain": [
       "       Patient ID     2D Surface  Contour Size  Total Surface     Density  \\\n",
       "count  145.000000     145.000000    145.000000     145.000000  145.000000   \n",
       "mean    73.000000   11197.331034    561.902852   24948.872414    0.616912   \n",
       "std     42.001984   37505.105580    700.870894   61834.821186    0.306082   \n",
       "min      1.000000      10.000000     13.071068      12.000000    0.055568   \n",
       "25%     37.000000     395.000000    120.124890     693.000000    0.414042   \n",
       "50%     73.000000    1437.500000    275.622365    2979.500000    0.674065   \n",
       "75%    109.000000    5446.500000    743.737149   13503.500000    0.888472   \n",
       "max    145.000000  386972.500000   3924.688712  491608.500000    0.997361   \n",
       "\n",
       "         Diameter  Primary Axis  Shape Variation    Location  \\\n",
       "count  145.000000    145.000000       145.000000  145.000000   \n",
       "mean    74.180916    130.089811       203.119272    1.524138   \n",
       "std     93.887532    181.937427       395.821280    1.333764   \n",
       "min      3.568248      2.107625         4.760943    0.000000   \n",
       "25%     22.426092     20.596636        45.993591    0.000000   \n",
       "50%     42.781793     56.513119        91.704414    1.000000   \n",
       "75%     83.274841    209.590240       283.598083    3.000000   \n",
       "max    701.932112   1388.291992      4315.014648    4.000000   \n",
       "\n",
       "       Eccentricity_Real  Eccentricity_Imag       Class  \n",
       "count       1.450000e+02         145.000000  145.000000  \n",
       "mean        1.112586e-16           1.817069    0.800000  \n",
       "std         1.671465e-16           2.733265    0.641179  \n",
       "min         1.270000e-17           0.206967    0.000000  \n",
       "25%         4.980000e-17           0.812745    0.000000  \n",
       "50%         6.940000e-17           1.133157    1.000000  \n",
       "75%         1.090000e-16           1.772417    1.000000  \n",
       "max         1.720000e-15          28.144217    2.000000  "
      ]
     },
     "execution_count": 3,
     "metadata": {},
     "output_type": "execute_result"
    }
   ],
   "source": [
    "medical_train.describe()"
   ]
  },
  {
   "cell_type": "code",
   "execution_count": 4,
   "id": "20efd04a",
   "metadata": {},
   "outputs": [
    {
     "data": {
      "text/html": [
       "<div>\n",
       "<style scoped>\n",
       "    .dataframe tbody tr th:only-of-type {\n",
       "        vertical-align: middle;\n",
       "    }\n",
       "\n",
       "    .dataframe tbody tr th {\n",
       "        vertical-align: top;\n",
       "    }\n",
       "\n",
       "    .dataframe thead th {\n",
       "        text-align: right;\n",
       "    }\n",
       "</style>\n",
       "<table border=\"1\" class=\"dataframe\">\n",
       "  <thead>\n",
       "    <tr style=\"text-align: right;\">\n",
       "      <th></th>\n",
       "      <th>Patient ID</th>\n",
       "      <th>2D Surface</th>\n",
       "      <th>Contour Size</th>\n",
       "      <th>Total Surface</th>\n",
       "      <th>Density</th>\n",
       "      <th>Diameter</th>\n",
       "      <th>Primary Axis</th>\n",
       "      <th>Shape Variation</th>\n",
       "      <th>Location</th>\n",
       "      <th>Eccentricity_Real</th>\n",
       "      <th>Eccentricity_Imag</th>\n",
       "      <th>Class</th>\n",
       "    </tr>\n",
       "  </thead>\n",
       "  <tbody>\n",
       "    <tr>\n",
       "      <th>0</th>\n",
       "      <td>1</td>\n",
       "      <td>1325.5</td>\n",
       "      <td>160.124890</td>\n",
       "      <td>1518.5</td>\n",
       "      <td>0.872901</td>\n",
       "      <td>41.081371</td>\n",
       "      <td>36.290924</td>\n",
       "      <td>53.992371</td>\n",
       "      <td>2</td>\n",
       "      <td>6.750000e-17</td>\n",
       "      <td>1.101565</td>\n",
       "      <td>1</td>\n",
       "    </tr>\n",
       "    <tr>\n",
       "      <th>1</th>\n",
       "      <td>2</td>\n",
       "      <td>81.5</td>\n",
       "      <td>39.556349</td>\n",
       "      <td>88.0</td>\n",
       "      <td>0.926136</td>\n",
       "      <td>10.186708</td>\n",
       "      <td>8.801125</td>\n",
       "      <td>15.591203</td>\n",
       "      <td>2</td>\n",
       "      <td>8.950000e-17</td>\n",
       "      <td>1.462264</td>\n",
       "      <td>1</td>\n",
       "    </tr>\n",
       "    <tr>\n",
       "      <th>2</th>\n",
       "      <td>3</td>\n",
       "      <td>57177.0</td>\n",
       "      <td>912.607209</td>\n",
       "      <td>57611.0</td>\n",
       "      <td>0.992467</td>\n",
       "      <td>269.814784</td>\n",
       "      <td>234.644165</td>\n",
       "      <td>312.589264</td>\n",
       "      <td>4</td>\n",
       "      <td>5.390000e-17</td>\n",
       "      <td>0.880179</td>\n",
       "      <td>0</td>\n",
       "    </tr>\n",
       "    <tr>\n",
       "      <th>3</th>\n",
       "      <td>4</td>\n",
       "      <td>135.0</td>\n",
       "      <td>92.083260</td>\n",
       "      <td>206.0</td>\n",
       "      <td>0.655340</td>\n",
       "      <td>13.110581</td>\n",
       "      <td>6.568726</td>\n",
       "      <td>40.183521</td>\n",
       "      <td>3</td>\n",
       "      <td>3.700000e-16</td>\n",
       "      <td>6.035112</td>\n",
       "      <td>0</td>\n",
       "    </tr>\n",
       "    <tr>\n",
       "      <th>4</th>\n",
       "      <td>5</td>\n",
       "      <td>6653.0</td>\n",
       "      <td>1525.307779</td>\n",
       "      <td>84025.5</td>\n",
       "      <td>0.079178</td>\n",
       "      <td>92.037290</td>\n",
       "      <td>383.980133</td>\n",
       "      <td>402.407623</td>\n",
       "      <td>3</td>\n",
       "      <td>1.920000e-17</td>\n",
       "      <td>0.313504</td>\n",
       "      <td>1</td>\n",
       "    </tr>\n",
       "    <tr>\n",
       "      <th>5</th>\n",
       "      <td>6</td>\n",
       "      <td>101.0</td>\n",
       "      <td>62.284271</td>\n",
       "      <td>173.0</td>\n",
       "      <td>0.583815</td>\n",
       "      <td>11.340070</td>\n",
       "      <td>14.772180</td>\n",
       "      <td>24.742086</td>\n",
       "      <td>0</td>\n",
       "      <td>8.230000e-17</td>\n",
       "      <td>1.343625</td>\n",
       "      <td>0</td>\n",
       "    </tr>\n",
       "    <tr>\n",
       "      <th>6</th>\n",
       "      <td>7</td>\n",
       "      <td>11.5</td>\n",
       "      <td>13.071068</td>\n",
       "      <td>12.0</td>\n",
       "      <td>0.958333</td>\n",
       "      <td>3.826520</td>\n",
       "      <td>3.650945</td>\n",
       "      <td>4.760943</td>\n",
       "      <td>4</td>\n",
       "      <td>5.120000e-17</td>\n",
       "      <td>0.836956</td>\n",
       "      <td>1</td>\n",
       "    </tr>\n",
       "    <tr>\n",
       "      <th>7</th>\n",
       "      <td>8</td>\n",
       "      <td>104.5</td>\n",
       "      <td>42.727922</td>\n",
       "      <td>109.0</td>\n",
       "      <td>0.958716</td>\n",
       "      <td>11.534883</td>\n",
       "      <td>9.347109</td>\n",
       "      <td>16.334406</td>\n",
       "      <td>1</td>\n",
       "      <td>8.780000e-17</td>\n",
       "      <td>1.433137</td>\n",
       "      <td>2</td>\n",
       "    </tr>\n",
       "    <tr>\n",
       "      <th>8</th>\n",
       "      <td>9</td>\n",
       "      <td>1306.0</td>\n",
       "      <td>208.024384</td>\n",
       "      <td>1944.5</td>\n",
       "      <td>0.671638</td>\n",
       "      <td>40.778068</td>\n",
       "      <td>43.150715</td>\n",
       "      <td>54.268845</td>\n",
       "      <td>1</td>\n",
       "      <td>4.670000e-17</td>\n",
       "      <td>0.762695</td>\n",
       "      <td>1</td>\n",
       "    </tr>\n",
       "    <tr>\n",
       "      <th>9</th>\n",
       "      <td>10</td>\n",
       "      <td>2062.5</td>\n",
       "      <td>1125.050858</td>\n",
       "      <td>37117.0</td>\n",
       "      <td>0.055568</td>\n",
       "      <td>51.245064</td>\n",
       "      <td>543.773193</td>\n",
       "      <td>940.586609</td>\n",
       "      <td>2</td>\n",
       "      <td>8.640000e-17</td>\n",
       "      <td>1.411383</td>\n",
       "      <td>0</td>\n",
       "    </tr>\n",
       "  </tbody>\n",
       "</table>\n",
       "</div>"
      ],
      "text/plain": [
       "   Patient ID  2D Surface  Contour Size  Total Surface   Density    Diameter  \\\n",
       "0           1      1325.5    160.124890         1518.5  0.872901   41.081371   \n",
       "1           2        81.5     39.556349           88.0  0.926136   10.186708   \n",
       "2           3     57177.0    912.607209        57611.0  0.992467  269.814784   \n",
       "3           4       135.0     92.083260          206.0  0.655340   13.110581   \n",
       "4           5      6653.0   1525.307779        84025.5  0.079178   92.037290   \n",
       "5           6       101.0     62.284271          173.0  0.583815   11.340070   \n",
       "6           7        11.5     13.071068           12.0  0.958333    3.826520   \n",
       "7           8       104.5     42.727922          109.0  0.958716   11.534883   \n",
       "8           9      1306.0    208.024384         1944.5  0.671638   40.778068   \n",
       "9          10      2062.5   1125.050858        37117.0  0.055568   51.245064   \n",
       "\n",
       "   Primary Axis  Shape Variation  Location  Eccentricity_Real  \\\n",
       "0     36.290924        53.992371         2       6.750000e-17   \n",
       "1      8.801125        15.591203         2       8.950000e-17   \n",
       "2    234.644165       312.589264         4       5.390000e-17   \n",
       "3      6.568726        40.183521         3       3.700000e-16   \n",
       "4    383.980133       402.407623         3       1.920000e-17   \n",
       "5     14.772180        24.742086         0       8.230000e-17   \n",
       "6      3.650945         4.760943         4       5.120000e-17   \n",
       "7      9.347109        16.334406         1       8.780000e-17   \n",
       "8     43.150715        54.268845         1       4.670000e-17   \n",
       "9    543.773193       940.586609         2       8.640000e-17   \n",
       "\n",
       "   Eccentricity_Imag  Class  \n",
       "0           1.101565      1  \n",
       "1           1.462264      1  \n",
       "2           0.880179      0  \n",
       "3           6.035112      0  \n",
       "4           0.313504      1  \n",
       "5           1.343625      0  \n",
       "6           0.836956      1  \n",
       "7           1.433137      2  \n",
       "8           0.762695      1  \n",
       "9           1.411383      0  "
      ]
     },
     "execution_count": 4,
     "metadata": {},
     "output_type": "execute_result"
    }
   ],
   "source": [
    "medical_train.head(10)"
   ]
  },
  {
   "cell_type": "code",
   "execution_count": 5,
   "id": "aa7468d3",
   "metadata": {},
   "outputs": [
    {
     "data": {
      "text/plain": [
       "(60, 12)"
      ]
     },
     "execution_count": 5,
     "metadata": {},
     "output_type": "execute_result"
    }
   ],
   "source": [
    "medical_test.shape"
   ]
  },
  {
   "cell_type": "code",
   "execution_count": 6,
   "id": "aa2b4e8f",
   "metadata": {
    "scrolled": true
   },
   "outputs": [
    {
     "data": {
      "text/plain": [
       "Index(['Patient ID', '2D Surface', 'Contour Size', 'Total Surface', 'Density',\n",
       "       'Diameter', 'Primary Axis', 'Shape Variation', 'Location',\n",
       "       'Eccentricity_Real', 'Eccentricity_Imag', 'Class'],\n",
       "      dtype='object')"
      ]
     },
     "execution_count": 6,
     "metadata": {},
     "output_type": "execute_result"
    }
   ],
   "source": [
    "medical_train.columns"
   ]
  },
  {
   "cell_type": "code",
   "execution_count": 7,
   "id": "9e303b90",
   "metadata": {},
   "outputs": [],
   "source": [
    "target_column = 'Class'"
   ]
  },
  {
   "cell_type": "code",
   "execution_count": 8,
   "id": "7ddb1ba5",
   "metadata": {},
   "outputs": [],
   "source": [
    "y_train, X_train = medical_train[target_column], medical_train.drop(columns=[target_column],inplace=False)\n",
    "\n",
    "y_test, X_test = medical_test[target_column], medical_test.drop(columns=[target_column],inplace=False)"
   ]
  },
  {
   "cell_type": "code",
   "execution_count": null,
   "id": "5d339f0f",
   "metadata": {},
   "outputs": [],
   "source": []
  },
  {
   "cell_type": "code",
   "execution_count": 9,
   "id": "65fc12ce",
   "metadata": {},
   "outputs": [],
   "source": [
    "def logistic(z):\n",
    "    return 1. / (1. + np.exp(-z))"
   ]
  },
  {
   "cell_type": "code",
   "execution_count": 10,
   "id": "d372ed9e",
   "metadata": {},
   "outputs": [
    {
     "name": "stdout",
     "output_type": "stream",
     "text": [
      "\n"
     ]
    }
   ],
   "source": [
    "logistic(np.array([0,1,2]))\n",
    "\n",
    "print()"
   ]
  },
  {
   "cell_type": "code",
   "execution_count": 11,
   "id": "295b5847",
   "metadata": {},
   "outputs": [],
   "source": [
    "def predict_log(X, beta, beta0):\n",
    "    X_ = np.hstack((np.ones((X.shape[0], 1)), X))\n",
    "    beta_ = np.insert(beta, 0, beta0)\n",
    "    y_log = logistic(X_ @ beta_)\n",
    "    return y_log"
   ]
  },
  {
   "cell_type": "code",
   "execution_count": 12,
   "id": "babb735d",
   "metadata": {},
   "outputs": [
    {
     "data": {
      "text/plain": [
       "array([1., 1., 1., 1., 1., 1., 1., 1., 1., 1., 1., 1., 1., 1., 1., 1., 1.,\n",
       "       1., 1., 1., 1., 1., 1., 1., 1., 1., 1., 1., 1., 1., 1., 1., 1., 1.,\n",
       "       1., 1., 1., 1., 1., 1., 1., 1., 1., 1., 1., 1., 1., 1., 1., 1., 1.,\n",
       "       1., 1., 1., 1., 1., 1., 1., 1., 1., 1., 1., 1., 1., 1., 1., 1., 1.,\n",
       "       1., 1., 1., 1., 1., 1., 1., 1., 1., 1., 1., 1., 1., 1., 1., 1., 1.,\n",
       "       1., 1., 1., 1., 1., 1., 1., 1., 1., 1., 1., 1., 1., 1., 1., 1., 1.,\n",
       "       1., 1., 1., 1., 1., 1., 1., 1., 1., 1., 1., 1., 1., 1., 1., 1., 1.,\n",
       "       1., 1., 1., 1., 1., 1., 1., 1., 1., 1., 1., 1., 1., 1., 1., 1., 1.,\n",
       "       1., 1., 1., 1., 1., 1., 1., 1., 1.])"
      ]
     },
     "execution_count": 12,
     "metadata": {},
     "output_type": "execute_result"
    }
   ],
   "source": [
    "# predict_log(X_train, np.array([1,2,3,4,5,6,7,8,9,10,11]),5)\n",
    "predict_log(X_train, np.array([3.00000000e-02, 2.20310345e+00, 1.10803414e+03, 2.67910233e+01,\n",
    " 1.60119707e+03, 2.42090793e-02, 4.98400234e+00, 5.68353679e+00,\n",
    " 8.71214793e+00, 6.31034483e-02, 2.79534483e-18]), 0.04567474893000001)"
   ]
  },
  {
   "cell_type": "code",
   "execution_count": 13,
   "id": "855df378",
   "metadata": {},
   "outputs": [
    {
     "data": {
      "text/plain": [
       "array([0.5, 0.5, 0.5, 0.5, 0.5, 0.5, 0.5, 0.5, 0.5, 0.5, 0.5, 0.5, 0.5,\n",
       "       0.5, 0.5, 0.5, 0.5, 0.5, 0.5, 0.5, 0.5, 0.5, 0.5, 0.5, 0.5, 0.5,\n",
       "       0.5, 0.5, 0.5, 0.5, 0.5, 0.5, 0.5, 0.5, 0.5, 0.5, 0.5, 0.5, 0.5,\n",
       "       0.5, 0.5, 0.5, 0.5, 0.5, 0.5, 0.5, 0.5, 0.5, 0.5, 0.5, 0.5, 0.5,\n",
       "       0.5, 0.5, 0.5, 0.5, 0.5, 0.5, 0.5, 0.5, 0.5, 0.5, 0.5, 0.5, 0.5,\n",
       "       0.5, 0.5, 0.5, 0.5, 0.5, 0.5, 0.5, 0.5, 0.5, 0.5, 0.5, 0.5, 0.5,\n",
       "       0.5, 0.5, 0.5, 0.5, 0.5, 0.5, 0.5, 0.5, 0.5, 0.5, 0.5, 0.5, 0.5,\n",
       "       0.5, 0.5, 0.5, 0.5, 0.5, 0.5, 0.5, 0.5, 0.5, 0.5, 0.5, 0.5, 0.5,\n",
       "       0.5, 0.5, 0.5, 0.5, 0.5, 0.5, 0.5, 0.5, 0.5, 0.5, 0.5, 0.5, 0.5,\n",
       "       0.5, 0.5, 0.5, 0.5, 0.5, 0.5, 0.5, 0.5, 0.5, 0.5, 0.5, 0.5, 0.5,\n",
       "       0.5, 0.5, 0.5, 0.5, 0.5, 0.5, 0.5, 0.5, 0.5, 0.5, 0.5, 0.5, 0.5,\n",
       "       0.5, 0.5])"
      ]
     },
     "execution_count": 13,
     "metadata": {},
     "output_type": "execute_result"
    }
   ],
   "source": [
    "predict_log(X_train, np.zeros(11),0)"
   ]
  },
  {
   "cell_type": "code",
   "execution_count": 14,
   "id": "6ff623f6",
   "metadata": {},
   "outputs": [],
   "source": [
    "def propagate(X, y, beta, beta0, lam):\n",
    "    \"\"\"\n",
    "    Arguments:\n",
    "    X: Data of shape (N, p)\n",
    "    y: True label vector of size N\n",
    "    beta: Parameter vector, a numpy array of size p\n",
    "    beta0: \n",
    "    lam: \n",
    "\n",
    "    Returns:\n",
    "    grads: \n",
    "    mean_loss: Mean sample loss for the negative log-likelihood\n",
    "\n",
    "    \"\"\"\n",
    "    y_log = predict_log(X, beta, beta0)\n",
    "\n",
    "    # Mean sample loss function\n",
    "    mean_loss = -np.mean(y*np.log(y_log) + (1-y)*np.log(1-y_log)) + (lam/2) * np.linalg.norm(beta)**2\n",
    "    \n",
    "    # Derivatives\n",
    "    dbeta = np.mean(X.T * (y_log - y), axis=1) + lam*beta \n",
    "    dbeta0 = np.mean(y_log - y)\n",
    "    \n",
    "    mean_loss = np.squeeze(mean_loss)\n",
    "  \n",
    "    # Store gradients in a dictionary\n",
    "    grads = {'dbeta': dbeta, 'dbeta0' : dbeta0}\n",
    "  \n",
    "    return grads, mean_loss"
   ]
  },
  {
   "cell_type": "code",
   "execution_count": 15,
   "id": "651e6a12",
   "metadata": {},
   "outputs": [],
   "source": [
    "def optimise(X, y, beta, beta0, lam=0.0025, num_iterations=1000, learning_rate=0.1, print_loss=False):\n",
    "    \"\"\"\n",
    "    Arguments:\n",
    "    X: Data of shape (N, p+1)\n",
    "    y: True label vector of size N\n",
    "    beta: Parameter vector, a numpy array of size p\n",
    "    beta0:\n",
    "    lam0:\n",
    "    num_iterations: Number of iterations\n",
    "    learning_rate: Step size in updating procedure\n",
    "    print_loss: 'True' to print the mean loss every 100 iterations\n",
    "\n",
    "    Returns:\n",
    "    params: Dictionary containing the parameter vector beta and parameter beta0\n",
    "    grads: Dictionary containing the gradient\n",
    "    mean_loss_history: List of all the mean loss values computed during the optimisation (can be used to plot the learning curve)\n",
    "\n",
    "    \"\"\"\n",
    "    mean_loss_history = []\n",
    "    \n",
    "    for i in range(num_iterations):\n",
    "        \n",
    "        # Calculating the loss and gradients\n",
    "        grads, mean_loss = propagate(X, y, beta, beta0, lam)\n",
    "      \n",
    "        # Retrieving derivatives from grads\n",
    "        dbeta = grads['dbeta']\n",
    "        dbeta0 = grads['dbeta0']\n",
    "        \n",
    "        # Updating procedure\n",
    "        beta -= learning_rate * dbeta\n",
    "        beta0 -= learning_rate * dbeta0#\n",
    "    \n",
    "              \n",
    "        # Record the loss values\n",
    "        if i % 100 == 0:\n",
    "            mean_loss_history.append(mean_loss)\n",
    "      \n",
    "        # Printing the loss every 100 iterations\n",
    "        if print_loss and i % 1 == 0:\n",
    "            print ('Mean loss after iteration %i: %f' %(i, mean_loss))\n",
    "  \n",
    "    # Saving parameters and gradients in dictionary\n",
    "    params = {'beta': beta, 'beta0' : beta0}\n",
    "    grads = {'dbeta': dbeta, 'dbeta0': dbeta0}\n",
    "  \n",
    "    return params, grads, mean_loss_history"
   ]
  },
  {
   "cell_type": "code",
   "execution_count": 16,
   "id": "761ba469",
   "metadata": {},
   "outputs": [],
   "source": [
    "def predict(X_test, beta, beta0):\n",
    "    \"\"\"\n",
    "    Arguments:\n",
    "    X_test: Test set of shape (N_test, p)\n",
    "    beta: Parameter vector, a numpy array of size p\n",
    "    beta0:\n",
    "\n",
    "    Returns:\n",
    "    y_pred: Vector containing all binary predictions (0/1) for X_test\n",
    "    \n",
    "    \"\"\"\n",
    "    N_test = X_test.shape[0]\n",
    "#     y_pred = np.zeros((N_test, 1))\n",
    "#     beta = beta.reshape(X_test.shape[1], 1)\n",
    "  \n",
    "    # Predicting the probabilities\n",
    "    y_log = predict_log(X_test, beta, beta0)\n",
    "  \n",
    "    y_pred = y_log.round()\n",
    "  \n",
    "    return y_pred"
   ]
  },
  {
   "cell_type": "code",
   "execution_count": 17,
   "id": "42b4dda7",
   "metadata": {},
   "outputs": [],
   "source": [
    "def model(X_train, y_train, X_test, y_test, lam=0.0025, num_iterations=2000, learning_rate=0.1, print_loss=False):\n",
    "    # Initialising parameters with zeros\n",
    "    beta, beta0 = np.zeros(X_train.shape[1]), 0\n",
    "\n",
    "    # Gradient descent\n",
    "    parameters, grads, mean_loss_history = optimise(X_train, y_train, beta, beta0, lam, num_iterations, learning_rate, print_loss=print_loss)\n",
    "\n",
    "    # Retrieving parameter vector beta from dictionary 'parameters'\n",
    "    beta = parameters['beta']\n",
    "    beta0 = parameters['beta0']\n",
    "\n",
    "    # Predicting test and training set examples\n",
    "    y_pred_test = predict(X_test, beta, beta0)\n",
    "    y_pred_train = predict(X_train, beta, beta0)\n",
    "\n",
    "    # Printing train/test accuracy\n",
    "    print('Training accuracy: {} %'.format(100 - np.mean(np.abs(y_pred_train - y_train)) * 100))\n",
    "    print('Test accuracy: {} %'.format(100 - np.mean(np.abs(y_pred_test - y_test)) * 100))\n",
    "\n",
    "    # Saving all the information\n",
    "    d = {'mean_loss_history': mean_loss_history, 'y_pred_test': y_pred_test, 'y_pred_train': y_pred_train, 'beta': beta, 'learning_rate': learning_rate, 'num_iterations': num_iterations}\n",
    "  \n",
    "    return d"
   ]
  },
  {
   "cell_type": "code",
   "execution_count": 18,
   "id": "53fb2621",
   "metadata": {},
   "outputs": [
    {
     "name": "stdout",
     "output_type": "stream",
     "text": [
      "Mean loss after iteration 0: 0.693147\n",
      "Mean loss after iteration 1: nan\n",
      "Mean loss after iteration 2: nan\n",
      "Mean loss after iteration 3: nan\n",
      "Mean loss after iteration 4: nan\n",
      "Mean loss after iteration 5: nan\n",
      "Mean loss after iteration 6: nan\n",
      "Mean loss after iteration 7: nan\n",
      "Mean loss after iteration 8: nan\n",
      "Mean loss after iteration 9: nan\n",
      "Training accuracy: 55.172413793103445 %\n",
      "Test accuracy: 58.33333333333333 %\n"
     ]
    },
    {
     "name": "stderr",
     "output_type": "stream",
     "text": [
      "<ipython-input-14-9cbd878f45c7>:18: RuntimeWarning: divide by zero encountered in log\n",
      "  mean_loss = -np.mean(y*np.log(y_log) + (1-y)*np.log(1-y_log)) + (lam/2) * np.linalg.norm(beta)**2\n",
      "<ipython-input-14-9cbd878f45c7>:18: RuntimeWarning: invalid value encountered in multiply\n",
      "  mean_loss = -np.mean(y*np.log(y_log) + (1-y)*np.log(1-y_log)) + (lam/2) * np.linalg.norm(beta)**2\n",
      "C:\\Users\\phily\\anaconda3\\lib\\site-packages\\numpy\\core\\_methods.py:178: RuntimeWarning: invalid value encountered in reduce\n",
      "  ret = umr_sum(arr, axis, dtype, out, keepdims, where=where)\n"
     ]
    }
   ],
   "source": [
    "d = model(X_train.to_numpy(), y_train.to_numpy(), X_test.to_numpy(), y_test.to_numpy(), num_iterations=10, print_loss=True)"
   ]
  },
  {
   "cell_type": "code",
   "execution_count": null,
   "id": "89d22cda",
   "metadata": {},
   "outputs": [],
   "source": []
  },
  {
   "cell_type": "code",
   "execution_count": 19,
   "id": "0f0dfb36",
   "metadata": {
    "scrolled": true
   },
   "outputs": [
    {
     "data": {
      "text/plain": [
       "array([[ 6, 21, 40],\n",
       "       [12, 28, 48]])"
      ]
     },
     "execution_count": 19,
     "metadata": {},
     "output_type": "execute_result"
    }
   ],
   "source": [
    "# X = X_train.to_numpy()\n",
    "Xab = np.array([[1,2],[3,4],[5,6]])\n",
    "yab = np.array([6,7,8])\n",
    "\n",
    "Xab.T * yab"
   ]
  },
  {
   "cell_type": "code",
   "execution_count": 20,
   "id": "46d50bf8",
   "metadata": {},
   "outputs": [
    {
     "data": {
      "text/plain": [
       "array([22.33333333, 29.33333333])"
      ]
     },
     "execution_count": 20,
     "metadata": {},
     "output_type": "execute_result"
    }
   ],
   "source": [
    "np.mean(Xab.T * yab, axis=1)"
   ]
  },
  {
   "cell_type": "code",
   "execution_count": 21,
   "id": "c27aa045",
   "metadata": {},
   "outputs": [
    {
     "data": {
      "text/plain": [
       "array([22.33333333, 29.33333333])"
      ]
     },
     "execution_count": 21,
     "metadata": {},
     "output_type": "execute_result"
    }
   ],
   "source": [
    "(Xab.T @ yab)/Xab.shape[0]"
   ]
  }
 ],
 "metadata": {
  "kernelspec": {
   "display_name": "Python 3",
   "language": "python",
   "name": "python3"
  },
  "language_info": {
   "codemirror_mode": {
    "name": "ipython",
    "version": 3
   },
   "file_extension": ".py",
   "mimetype": "text/x-python",
   "name": "python",
   "nbconvert_exporter": "python",
   "pygments_lexer": "ipython3",
   "version": "3.8.8"
  }
 },
 "nbformat": 4,
 "nbformat_minor": 5
}
